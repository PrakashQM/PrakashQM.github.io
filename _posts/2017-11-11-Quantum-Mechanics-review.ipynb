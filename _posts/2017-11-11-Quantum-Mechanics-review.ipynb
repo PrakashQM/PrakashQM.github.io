{
 "cells": [
  {
   "cell_type": "markdown",
   "metadata": {},
   "source": [
    "# Axioms of Quantum Mechanics\n",
    "\n",
    "\n",
    "\n",
    "<per>\n",
    "QM is difficult to fully understand but relatively easy to use. In quantum chemistry, focus is more on using QM to solve interesting chemistry problems.\n",
    "\n",
    "So, what are the some of the problematics aspects of QM that does fit into the conventional thinking. One can never have complete information about the quantum state, only partial knowledge is available, act of measurement can fundamentally distrubs its state. \n",
    "</per>"
   ]
  },
  {
   "cell_type": "code",
   "execution_count": null,
   "metadata": {
    "collapsed": true
   },
   "outputs": [],
   "source": []
  }
 ],
 "metadata": {
  "anaconda-cloud": {},
  "kernelspec": {
   "display_name": "Python [conda root]",
   "language": "python",
   "name": "conda-root-py"
  },
  "language_info": {
   "codemirror_mode": {
    "name": "ipython",
    "version": 2
   },
   "file_extension": ".py",
   "mimetype": "text/x-python",
   "name": "python",
   "nbconvert_exporter": "python",
   "pygments_lexer": "ipython2",
   "version": "2.7.14"
  }
 },
 "nbformat": 4,
 "nbformat_minor": 1
}
